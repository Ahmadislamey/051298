{
 "cells": [
  {
   "cell_type": "code",
   "execution_count": 1,
   "id": "e8a4a138-5038-4f0a-b141-b121f1a0ae96",
   "metadata": {},
   "outputs": [
    {
     "name": "stdout",
     "output_type": "stream",
     "text": [
      "Items: [{'price': 10000, 'qty': 2}, {'price': 5000, 'qty': 12}, {'price': 120000, 'qty': 3}, {'price': 20000, 'qty': 5}]\n",
      "subtotal: Rp.540,000.00\n",
      "diskon: Rp.108,000.00\n",
      "total: Rp.432,000.00\n",
      "pajak: Rp.10,800.00\n"
     ]
    }
   ],
   "source": [
    "transaksi = {\n",
    "    \"discount\": 20,\n",
    "    \"percentage\": True,\n",
    "    \"items\": [\n",
    "        {\n",
    "            \"price\": 10000,\n",
    "            \"qty\": 2\n",
    "        },\n",
    "        {\n",
    "            \"price\": 5000,\n",
    "            \"qty\": 12\n",
    "        },\n",
    "        {\n",
    "            \"price\": 120000,\n",
    "            \"qty\": 3\n",
    "        }\n",
    "    ]\n",
    "}\n",
    "\n",
    "# Tambah item\n",
    "transaksi[\"items\"].append({\"price\": 20000, \"qty\": 5})\n",
    "print(\"Items:\", transaksi[\"items\"])\n",
    "\n",
    "# Hitung subtotal (sebelum diskon) dan total (setelah diskon)\n",
    "subtotal = sum([item[\"price\"] * item[\"qty\"] for item in transaksi[\"items\"]])\n",
    "diskon = (subtotal * transaksi[\"discount\"] / 100) if transaksi[\"percentage\"] else transaksi[\"discount\"]\n",
    "\n",
    "# Hasil akhir\n",
    "results = {\n",
    "    \"subtotal\": subtotal,\n",
    "    \"diskon\": diskon,\n",
    "    \"total\": subtotal - diskon\n",
    "}\n",
    "\n",
    "# Hitung pajak 2.5% dari total\n",
    "results[\"pajak\"] = 2.5 / 100 * results[\"total\"]\n",
    "\n",
    "# Tampilkan hasil\n",
    "for k, v in results.items():\n",
    "    print(f\"{k}: Rp.{v:,.2f}\")\n"
   ]
  },
  {
   "cell_type": "code",
   "execution_count": null,
   "id": "b7f9d815-3c4e-485f-9f6c-f406487178c2",
   "metadata": {},
   "outputs": [],
   "source": []
  }
 ],
 "metadata": {
  "kernelspec": {
   "display_name": "Python 3 (ipykernel)",
   "language": "python",
   "name": "python3"
  },
  "language_info": {
   "codemirror_mode": {
    "name": "ipython",
    "version": 3
   },
   "file_extension": ".py",
   "mimetype": "text/x-python",
   "name": "python",
   "nbconvert_exporter": "python",
   "pygments_lexer": "ipython3",
   "version": "3.13.0"
  }
 },
 "nbformat": 4,
 "nbformat_minor": 5
}

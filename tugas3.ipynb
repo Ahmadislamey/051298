{
 "cells": [
  {
   "cell_type": "code",
   "execution_count": 1,
   "id": "b88f656b-c586-44e8-bed6-c461bcc4d8b5",
   "metadata": {},
   "outputs": [
    {
     "name": "stdout",
     "output_type": "stream",
     "text": [
      "List: [2, 3, 4, 5, 6, 7, 8, 9, 10, 11, 12, 13, 14, 15, 16, 17, 18, 19, 20, 21]\n",
      "index: 12\n",
      "Dict: {'Usia': 18, 'Pendidikan': 'Sarjana', 'nama': 'Arif'}\n",
      "nama: Arif\n"
     ]
    }
   ],
   "source": [
    "# List comprehension\n",
    "data_list = [i+2 for i in range(20)]  # Membuat list dengan angka dari 2 sampai 21\n",
    "print(\"List:\", data_list)  # Menampilkan seluruh list\n",
    "print(\"index:\", data_list[10])  # Menampilkan elemen pada indeks ke-10\n",
    "\n",
    "# Dictionary\n",
    "data_dict = {\n",
    "    \"Usia\": 18,\n",
    "    \"Pendidikan\": \"Sarjana\",\n",
    "    \"nama\": \"Arif\",\n",
    "}\n",
    "\n",
    "print(\"Dict:\", data_dict)  # Menampilkan seluruh dictionary\n",
    "print(\"nama:\", data_dict[\"nama\"])  # Menampilkan nilai dari key 'nama'\n"
   ]
  },
  {
   "cell_type": "code",
   "execution_count": null,
   "id": "b2e86692-852f-4382-8336-f9e27f49e246",
   "metadata": {},
   "outputs": [],
   "source": []
  }
 ],
 "metadata": {
  "kernelspec": {
   "display_name": "Python 3 (ipykernel)",
   "language": "python",
   "name": "python3"
  },
  "language_info": {
   "codemirror_mode": {
    "name": "ipython",
    "version": 3
   },
   "file_extension": ".py",
   "mimetype": "text/x-python",
   "name": "python",
   "nbconvert_exporter": "python",
   "pygments_lexer": "ipython3",
   "version": "3.13.0"
  }
 },
 "nbformat": 4,
 "nbformat_minor": 5
}
